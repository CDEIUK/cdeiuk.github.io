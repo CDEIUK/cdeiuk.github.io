{
  "nbformat": 4,
  "nbformat_minor": 0,
  "metadata": {
    "colab": {
      "name": "Untitled1.ipynb",
      "provenance": [],
      "authorship_tag": "ABX9TyN5MQf2C1+DWaWPqkCjX98H",
      "include_colab_link": true
    },
    "kernelspec": {
      "name": "python3",
      "display_name": "Python 3"
    }
  },
  "cells": [
    {
      "cell_type": "markdown",
      "metadata": {
        "id": "view-in-github",
        "colab_type": "text"
      },
      "source": [
        "<a href=\"https://colab.research.google.com/github/CDEIUK/cdeiuk.github.io/blob/master/Untitled1.ipynb\" target=\"_parent\"><img src=\"https://colab.research.google.com/assets/colab-badge.svg\" alt=\"Open In Colab\"/></a>"
      ]
    },
    {
      "cell_type": "code",
      "metadata": {
        "id": "43feTVQXyvcR",
        "colab_type": "code",
        "colab": {
          "base_uri": "https://localhost:8080/",
          "height": 159
        },
        "outputId": "5f26ab2a-11db-4f6b-b8f0-df50845e751d"
      },
      "source": [
        "from google.colab import drive\n",
        "from os.path import join\n",
        "\n",
        "ROOT_DIR = '/content/drive'\n",
        "PROJECT_DIR = 'My Drive/CDEI/TECH FUNCTION/CDEIcolab/test'\n",
        "PROJECT_PATH = join(ROOT_DIR, PROJECT_DIR)\n",
        "\n",
        "\n",
        "drive.mount(ROOT_DIR)\n",
        "#!mkdir \"{PROJECT_PATH}\"\n",
        "#!git clone \"{GIT_PATH}\"\n",
        "\n"
      ],
      "execution_count": 1,
      "outputs": [
        {
          "output_type": "stream",
          "text": [
            "Go to this URL in a browser: https://accounts.google.com/o/oauth2/auth?client_id=947318989803-6bn6qk8qdgf4n4g3pfee6491hc0brc4i.apps.googleusercontent.com&redirect_uri=urn%3aietf%3awg%3aoauth%3a2.0%3aoob&response_type=code&scope=email%20https%3a%2f%2fwww.googleapis.com%2fauth%2fdocs.test%20https%3a%2f%2fwww.googleapis.com%2fauth%2fdrive%20https%3a%2f%2fwww.googleapis.com%2fauth%2fdrive.photos.readonly%20https%3a%2f%2fwww.googleapis.com%2fauth%2fpeopleapi.readonly\n",
            "\n",
            "Enter your authorization code:\n",
            "··········\n",
            "Mounted at /content/drive\n",
            "Cloning into '{GIT_REPO}'...\n",
            "fatal: unable to access 'https://{GIT_TOKEN}@github.com/{GIT_ORG}/{GIT_REPO}.git/': The requested URL returned error: 400\n"
          ],
          "name": "stdout"
        }
      ]
    },
    {
      "cell_type": "code",
      "metadata": {
        "id": "dF-g9hmNzJj1",
        "colab_type": "code",
        "colab": {
          "base_uri": "https://localhost:8080/",
          "height": 35
        },
        "outputId": "ea7c1d01-fa0f-4555-d2e7-1b7d8367de0e"
      },
      "source": [
        "%ls drive/My\\ Drive/CDEI/TECH\\ FUNCTION/CDEIcolab"
      ],
      "execution_count": 12,
      "outputs": [
        {
          "output_type": "stream",
          "text": [
            " input.txt   modelparams.csv  'Module test.ipynb'  'Yeats the infinite'\n"
          ],
          "name": "stdout"
        }
      ]
    },
    {
      "cell_type": "code",
      "metadata": {
        "id": "Xef5NR8_Swlk",
        "colab_type": "code",
        "colab": {
          "base_uri": "https://localhost:8080/",
          "height": 35
        },
        "outputId": "57520b3c-1fe6-4af3-debf-9cac0ba15b93"
      },
      "source": [
        "GIT_TOKEN = ''\n",
        "GIT_ORG = 'cdeiuk'\n",
        "GIT_REPO = 'test'\n",
        "GIT_PATH = f\"https://{GIT_TOKEN}@github.com/{GIT_ORG}/{GIT_REPO}.git\"\n",
        "\n",
        "print(GIT_PATH)"
      ],
      "execution_count": 3,
      "outputs": [
        {
          "output_type": "stream",
          "text": [
            "https://@github.com/cdeiuk/test.git\n"
          ],
          "name": "stdout"
        }
      ]
    },
    {
      "cell_type": "code",
      "metadata": {
        "id": "1ainnS6GS0bs",
        "colab_type": "code",
        "colab": {}
      },
      "source": [
        ""
      ],
      "execution_count": 0,
      "outputs": []
    }
  ]
}